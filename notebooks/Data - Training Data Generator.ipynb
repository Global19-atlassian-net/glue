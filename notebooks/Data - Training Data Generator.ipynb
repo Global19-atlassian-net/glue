{
 "cells": [
  {
   "cell_type": "markdown",
   "metadata": {},
   "source": [
    "# Automated Generation of Training Data for Microsoft LUIS and Speech Service\n",
    "This notebook serves to batch-generate training data for [Microsoft LUIS](https://luis.ai) and [Microsoft Speech Service](https://speech.microsoft.com) based on example utterances and possible entity-values.\n",
    "\n",
    "## Example\n",
    "### Input sentence: \n",
    "- \"I would like to book a flight from {city} to {city} and my name is {name}.\"\n",
    "\n",
    "### Sample values: \n",
    "- city: 'Stuttgart', 'Singapore', 'Frankfurt', 'Kuala Lumpur'\n",
    "- name: 'Nadella', 'Gates'\n",
    "\n",
    "### Returns:\n",
    "- Training Data for Speech-To-Text Engine or textual input for Text-to-Speech generation\n",
    "    - \"I would like to book a flight from Frankfurt to Kuala Lumpur and my name is Nadella.\"\n",
    "    - \"I would like to book a flight from Singapore to Stuttgart and my name is Gates.\"\n",
    "    - \"I would like to book a flight from Singapore to Frankfurt and my name is Ballmer.\"\n",
    "- Training data for Microsoft LUIS (see the concept of [LU-files](https://docs.microsoft.com/en-us/composer/concept-language-understanding))\n",
    "    - I would like to book a flight from {city=Frankfurt} to {city=Kuala Lumpur} via {station=Bus Stop} and my name is {name=Nadella}.\n",
    "    - I would like to book a flight from {city=Singapore} to {city=Stuttgart} via {station=Airport} and my name is {name=Gates}.\n",
    "    - I would like to book a flight from {city=Singapore} to {city=Frankfurt} via {station=Airport} and my name is {name=Ballmer}."
   ]
  },
  {
   "cell_type": "code",
   "execution_count": 23,
   "metadata": {},
   "outputs": [
    {
     "output_type": "stream",
     "name": "stdout",
     "text": [
      "The autoreload extension is already loaded. To reload it, use:\n  %reload_ext autoreload\n"
     ]
    }
   ],
   "source": [
    "# Import relevant packages\n",
    "import json\n",
    "import re\n",
    "import logging\n",
    "import pandas as pd\n",
    "import random\n",
    "import sys\n",
    "\n",
    "# Import LUIS generator components\n",
    "sys.path.append(\"../src/\")\n",
    "from luis_data_generator import LUISGenerator\n",
    "from luis_data_generator import transform_lu\n",
    "\n",
    "# Auto Reload\n",
    "%load_ext autoreload\n",
    "%autoreload 2"
   ]
  },
  {
   "cell_type": "code",
   "execution_count": 24,
   "metadata": {},
   "outputs": [],
   "source": [
    "# Define input values, or import them from a pandas data frame\n",
    "utterances = ['i would like to book a flight from {city} to {city} via {station}, my name is {name}.', \n",
    "              'i am coming from {city} and want to travel via {station} to {city}.',\n",
    "              'i want to book a seat on my flight to {city}.', \n",
    "              'how are you doing?']\n",
    "\n",
    "values = {'city': ['Singapore', 'Frankfurt', 'Kuala Lumpur', 'Stuttgart'], \n",
    "          'station': ['Airport', 'Central Station', 'Bus Stop'], \n",
    "          'name': ['Nadella', 'Gates', 'Ballmer']}\n",
    "\n",
    "intents =  ['BookFlight', \n",
    "            'BookFlight', \n",
    "            'BookSeat',\n",
    "            'None']"
   ]
  },
  {
   "cell_type": "code",
   "execution_count": 31,
   "metadata": {},
   "outputs": [],
   "source": [
    "# Create instance of the LUISGenerator-class along with your utterances, values and intents\n",
    "# If you have no intents, just remove it. It is an optional argument for the class.\n",
    "flight_generator = LUISGenerator(utterances, values, intents)"
   ]
  },
  {
   "cell_type": "code",
   "execution_count": 32,
   "metadata": {},
   "outputs": [],
   "source": [
    "# Define amount of iterations below.\n",
    "# Keep in mind that it does not necessarily mean, that there will be 1,000 examples of every utterance, as duplicates will be filtered out.\n",
    "# The amount of utterances per example depends on the maximum number of combinations based on example-entity value combinations.\n",
    "iterations = 1000"
   ]
  },
  {
   "cell_type": "code",
   "execution_count": 33,
   "metadata": {},
   "outputs": [
    {
     "output_type": "stream",
     "name": "stdout",
     "text": [
      "Done!\nWall time: 56.9 ms\n"
     ]
    }
   ],
   "source": [
    "%%time\n",
    "# Loop through the generator multiple times to get a variation of utterances\n",
    "# If you have intents, speech_results and luis_results will be zipped lists each\n",
    "# If you have no intents, speech_results and luis_results will be one-dimensional lists\n",
    "speech_results = []\n",
    "luis_results = []\n",
    "for _ in range(1, iterations):\n",
    "    flight_generator.get_values()\n",
    "    speech, luis = flight_generator.fill_values()\n",
    "    speech_results.extend(speech)\n",
    "    luis_results.extend(luis)\n",
    "print(\"Done!\")"
   ]
  },
  {
   "source": [
    "## Speech to Text / Text to Speech\n",
    "The section below give you a glance on the results and writes them to a text file.\n",
    "If you write generated these utterances along with intents, you may also use it for LUIS scoring with GLUE, as you have intent-text combinations.\n",
    "This can help you to evaluate the performance of the model given different entity values.\n"
   ],
   "cell_type": "markdown",
   "metadata": {}
  },
  {
   "cell_type": "code",
   "execution_count": 34,
   "metadata": {},
   "outputs": [
    {
     "output_type": "execute_result",
     "data": {
      "text/plain": [
       "[('BookFlight',\n",
       "  'i would like to book a flight from Frankfurt to Stuttgart via Airport, my name is Nadella.'),\n",
       " ('BookFlight',\n",
       "  'i am coming from Kuala Lumpur and want to travel via Airport to Singapore.'),\n",
       " ('BookSeat', 'i want to book a seat on my flight to Stuttgart.'),\n",
       " ('None', 'how are you doing?')]"
      ]
     },
     "metadata": {},
     "execution_count": 34
    }
   ],
   "source": [
    "# Show the head of the speech-results\n",
    "speech_results[:4]"
   ]
  },
  {
   "source": [
    "## LUIS\n",
    "The section below shows you how the results look like and writes them to a [LU-files](https://docs.microsoft.com/en-us/composer/concept-language-understanding). This file can be used as input file for [LUIS](https://luis.ai) training and to accelerate your model development."
   ],
   "cell_type": "markdown",
   "metadata": {}
  },
  {
   "cell_type": "code",
   "execution_count": 35,
   "metadata": {},
   "outputs": [
    {
     "output_type": "execute_result",
     "data": {
      "text/plain": [
       "[('BookFlight',\n",
       "  'i would like to book a flight from {city=Frankfurt} to {city=Stuttgart} via {station=Airport}, my name is {name=Nadella}.'),\n",
       " ('BookFlight',\n",
       "  'i am coming from {city=Kuala Lumpur} and want to travel via {station=Airport} to {city=Singapore}.'),\n",
       " ('BookSeat', 'i want to book a seat on my flight to {city=Stuttgart}.'),\n",
       " ('None', 'how are you doing?'),\n",
       " ('BookFlight',\n",
       "  'i would like to book a flight from {city=Stuttgart} to {city=Frankfurt} via {station=Central Station}, my name is {name=Gates}.')]"
      ]
     },
     "metadata": {},
     "execution_count": 35
    }
   ],
   "source": [
    "# Show the head of the luis results\n",
    "luis_results[:5]"
   ]
  },
  {
   "cell_type": "code",
   "execution_count": 36,
   "metadata": {},
   "outputs": [
    {
     "output_type": "stream",
     "name": "stderr",
     "text": [
      "WARNING:root:Writing output to file \"example_lu_file\".\n",
      "\n",
      "# BookFlight\n",
      "- i would like to book a flight from {city=Frankfurt} to {city=Stuttgart} via {station=Airport}, my name is {name=Nadella}.\n",
      "- i would like to book a flight from {city=Stuttgart} to {city=Singapore} via {station=Central Station}, my name is {name=Nadella}.\n",
      "- i am coming from {city=Stuttgart} and want to travel via {station=Airport} to {city=Kuala Lumpur}.\n",
      "- i would like to book a flight from {city=Stuttgart} to {city=Kuala Lumpur} via {station=Bus Stop}, my name is {name=Gates}.\n",
      "- i am coming from {city=Kuala Lumpur} and want to travel via {station=Central Station} to {city=Stuttgart}.\n",
      "- i would like to book a flight from {city=Frankfurt} to {city=Stuttgart} via {station=Central Station}, my name is {name=Nadella}.\n",
      "- i am coming from {city=Frankfurt} and want to travel via {station=Airport} to {city=Stuttgart}.\n",
      "- i would like to book a flight from {city=Kuala Lumpur} to {city=Singapore} via {station=Bus Stop}, my name is {name=Ballmer}.\n",
      "- i am coming from {city=Stuttgart} and want to travel via {station=Airport} to {city=Singapore}.\n",
      "- i am coming from {city=Frankfurt} and want to travel via {station=Bus Stop} to {city=Singapore}.\n",
      "- i would like to book a flight from {city=Kuala Lumpur} to {city=Singapore} via {station=Central Station}, my name is {name=Ballmer}.\n",
      "- i am coming from {city=Singapore} and want to travel via {station=Bus Stop} to {city=Frankfurt}.\n",
      "- i would like to book a flight from {city=Kuala Lumpur} to {city=Frankfurt} via {station=Central Station}, my name is {name=Nadella}.\n",
      "- i am coming from {city=Stuttgart} and want to travel via {station=Bus Stop} to {city=Singapore}.\n",
      "- i would like to book a flight from {city=Stuttgart} to {city=Frankfurt} via {station=Central Station}, my name is {name=Ballmer}.\n",
      "- i am coming from {city=Singapore} and want to travel via {station=Central Station} to {city=Stuttgart}.\n",
      "- i would like to book a flight from {city=Stuttgart} to {city=Frankfurt} via {station=Bus Stop}, my name is {name=Gates}.\n",
      "- i would like to book a flight from {city=Stuttgart} to {city=Kuala Lumpur} via {station=Bus Stop}, my name is {name=Nadella}.\n",
      "- i am coming from {city=Singapore} and want to travel via {station=Bus Stop} to {city=Stuttgart}.\n",
      "- i would like to book a flight from {city=Stuttgart} to {city=Kuala Lumpur} via {station=Central Station}, my name is {name=Nadella}.\n",
      "- i am coming from {city=Frankfurt} and want to travel via {station=Airport} to {city=Kuala Lumpur}.\n",
      "- i would like to book a flight from {city=Stuttgart} to {city=Frankfurt} via {station=Airport}, my name is {name=Ballmer}.\n",
      "- i am coming from {city=Kuala Lumpur} and want to travel via {station=Airport} to {city=Singapore}.\n",
      "- i would like to book a flight from {city=Singapore} to {city=Stuttgart} via {station=Central Station}, my name is {name=Gates}.\n",
      "- i am coming from {city=Stuttgart} and want to travel via {station=Central Station} to {city=Singapore}.\n",
      "- i would like to book a flight from {city=Stuttgart} to {city=Kuala Lumpur} via {station=Airport}, my name is {name=Nadella}.\n",
      "- i am coming from {city=Singapore} and want to travel via {station=Central Station} to {city=Frankfurt}.\n",
      "- i would like to book a flight from {city=Singapore} to {city=Kuala Lumpur} via {station=Bus Stop}, my name is {name=Nadella}.\n",
      "- i would like to book a flight from {city=Stuttgart} to {city=Singapore} via {station=Airport}, my name is {name=Gates}.\n",
      "- i am coming from {city=Frankfurt} and want to travel via {station=Bus Stop} to {city=Kuala Lumpur}.\n",
      "- i would like to book a flight from {city=Singapore} to {city=Stuttgart} via {station=Bus Stop}, my name is {name=Gates}.\n",
      "- i am coming from {city=Kuala Lumpur} and want to travel via {station=Bus Stop} to {city=Singapore}.\n",
      "- i would like to book a flight from {city=Frankfurt} to {city=Kuala Lumpur} via {station=Central Station}, my name is {name=Ballmer}.\n",
      "- i would like to book a flight from {city=Frankfurt} to {city=Singapore} via {station=Bus Stop}, my name is {name=Ballmer}.\n",
      "- i am coming from {city=Kuala Lumpur} and want to travel via {station=Central Station} to {city=Singapore}.\n",
      "- i would like to book a flight from {city=Frankfurt} to {city=Singapore} via {station=Bus Stop}, my name is {name=Gates}.\n",
      "- i would like to book a flight from {city=Kuala Lumpur} to {city=Stuttgart} via {station=Central Station}, my name is {name=Gates}.\n",
      "- i would like to book a flight from {city=Stuttgart} to {city=Frankfurt} via {station=Bus Stop}, my name is {name=Nadella}.\n",
      "- i am coming from {city=Singapore} and want to travel via {station=Bus Stop} to {city=Kuala Lumpur}.\n",
      "- i would like to book a flight from {city=Singapore} to {city=Stuttgart} via {station=Airport}, my name is {name=Gates}.\n",
      "- i am coming from {city=Singapore} and want to travel via {station=Airport} to {city=Stuttgart}.\n",
      "- i would like to book a flight from {city=Kuala Lumpur} to {city=Singapore} via {station=Central Station}, my name is {name=Gates}.\n",
      "- i would like to book a flight from {city=Singapore} to {city=Kuala Lumpur} via {station=Airport}, my name is {name=Gates}.\n",
      "- i would like to book a flight from {city=Singapore} to {city=Kuala Lumpur} via {station=Central Station}, my name is {name=Gates}.\n",
      "- i am coming from {city=Stuttgart} and want to travel via {station=Bus Stop} to {city=Kuala Lumpur}.\n",
      "- i would like to book a flight from {city=Kuala Lumpur} to {city=Singapore} via {station=Bus Stop}, my name is {name=Nadella}.\n",
      "- i would like to book a flight from {city=Stuttgart} to {city=Kuala Lumpur} via {station=Central Station}, my name is {name=Ballmer}.\n",
      "- i would like to book a flight from {city=Stuttgart} to {city=Frankfurt} via {station=Airport}, my name is {name=Nadella}.\n",
      "- i would like to book a flight from {city=Frankfurt} to {city=Kuala Lumpur} via {station=Airport}, my name is {name=Ballmer}.\n",
      "- i am coming from {city=Kuala Lumpur} and want to travel via {station=Central Station} to {city=Frankfurt}.\n",
      "- i would like to book a flight from {city=Frankfurt} to {city=Stuttgart} via {station=Central Station}, my name is {name=Ballmer}.\n",
      "- i would like to book a flight from {city=Kuala Lumpur} to {city=Stuttgart} via {station=Bus Stop}, my name is {name=Ballmer}.\n",
      "- i am coming from {city=Frankfurt} and want to travel via {station=Central Station} to {city=Stuttgart}.\n",
      "- i would like to book a flight from {city=Singapore} to {city=Frankfurt} via {station=Bus Stop}, my name is {name=Ballmer}.\n",
      "- i would like to book a flight from {city=Kuala Lumpur} to {city=Stuttgart} via {station=Airport}, my name is {name=Nadella}.\n",
      "- i would like to book a flight from {city=Frankfurt} to {city=Kuala Lumpur} via {station=Bus Stop}, my name is {name=Nadella}.\n",
      "- i would like to book a flight from {city=Singapore} to {city=Kuala Lumpur} via {station=Airport}, my name is {name=Nadella}.\n",
      "- i am coming from {city=Stuttgart} and want to travel via {station=Bus Stop} to {city=Frankfurt}.\n",
      "- i would like to book a flight from {city=Singapore} to {city=Stuttgart} via {station=Central Station}, my name is {name=Ballmer}.\n",
      "- i am coming from {city=Singapore} and want to travel via {station=Central Station} to {city=Kuala Lumpur}.\n",
      "- i would like to book a flight from {city=Frankfurt} to {city=Kuala Lumpur} via {station=Central Station}, my name is {name=Gates}.\n",
      "- i would like to book a flight from {city=Stuttgart} to {city=Singapore} via {station=Airport}, my name is {name=Nadella}.\n",
      "- i would like to book a flight from {city=Frankfurt} to {city=Kuala Lumpur} via {station=Airport}, my name is {name=Nadella}.\n",
      "- i am coming from {city=Kuala Lumpur} and want to travel via {station=Airport} to {city=Stuttgart}.\n",
      "- i would like to book a flight from {city=Kuala Lumpur} to {city=Stuttgart} via {station=Bus Stop}, my name is {name=Nadella}.\n",
      "- i am coming from {city=Kuala Lumpur} and want to travel via {station=Airport} to {city=Frankfurt}.\n",
      "- i would like to book a flight from {city=Singapore} to {city=Frankfurt} via {station=Central Station}, my name is {name=Ballmer}.\n",
      "- i would like to book a flight from {city=Kuala Lumpur} to {city=Singapore} via {station=Airport}, my name is {name=Nadella}.\n",
      "- i would like to book a flight from {city=Frankfurt} to {city=Stuttgart} via {station=Airport}, my name is {name=Gates}.\n",
      "- i would like to book a flight from {city=Kuala Lumpur} to {city=Singapore} via {station=Airport}, my name is {name=Ballmer}.\n",
      "- i am coming from {city=Frankfurt} and want to travel via {station=Bus Stop} to {city=Stuttgart}.\n",
      "- i would like to book a flight from {city=Frankfurt} to {city=Stuttgart} via {station=Airport}, my name is {name=Ballmer}.\n",
      "- i am coming from {city=Frankfurt} and want to travel via {station=Central Station} to {city=Kuala Lumpur}.\n",
      "- i would like to book a flight from {city=Stuttgart} to {city=Singapore} via {station=Bus Stop}, my name is {name=Nadella}.\n",
      "- i would like to book a flight from {city=Stuttgart} to {city=Frankfurt} via {station=Bus Stop}, my name is {name=Ballmer}.\n",
      "- i would like to book a flight from {city=Kuala Lumpur} to {city=Frankfurt} via {station=Central Station}, my name is {name=Ballmer}.\n",
      "- i would like to book a flight from {city=Kuala Lumpur} to {city=Frankfurt} via {station=Airport}, my name is {name=Ballmer}.\n",
      "- i would like to book a flight from {city=Kuala Lumpur} to {city=Frankfurt} via {station=Bus Stop}, my name is {name=Nadella}.\n",
      "- i would like to book a flight from {city=Stuttgart} to {city=Singapore} via {station=Bus Stop}, my name is {name=Ballmer}.\n",
      "- i would like to book a flight from {city=Kuala Lumpur} to {city=Stuttgart} via {station=Airport}, my name is {name=Gates}.\n",
      "- i am coming from {city=Kuala Lumpur} and want to travel via {station=Bus Stop} to {city=Stuttgart}.\n",
      "- i would like to book a flight from {city=Singapore} to {city=Stuttgart} via {station=Bus Stop}, my name is {name=Nadella}.\n",
      "- i would like to book a flight from {city=Frankfurt} to {city=Singapore} via {station=Central Station}, my name is {name=Ballmer}.\n",
      "- i would like to book a flight from {city=Frankfurt} to {city=Kuala Lumpur} via {station=Airport}, my name is {name=Gates}.\n",
      "- i would like to book a flight from {city=Stuttgart} to {city=Frankfurt} via {station=Airport}, my name is {name=Gates}.\n",
      "- i would like to book a flight from {city=Singapore} to {city=Frankfurt} via {station=Airport}, my name is {name=Ballmer}.\n",
      "- i am coming from {city=Kuala Lumpur} and want to travel via {station=Bus Stop} to {city=Frankfurt}.\n",
      "- i would like to book a flight from {city=Stuttgart} to {city=Singapore} via {station=Central Station}, my name is {name=Gates}.\n",
      "- i would like to book a flight from {city=Frankfurt} to {city=Singapore} via {station=Airport}, my name is {name=Ballmer}.\n",
      "- i am coming from {city=Singapore} and want to travel via {station=Airport} to {city=Kuala Lumpur}.\n",
      "- i would like to book a flight from {city=Singapore} to {city=Frankfurt} via {station=Bus Stop}, my name is {name=Gates}.\n",
      "- i would like to book a flight from {city=Stuttgart} to {city=Kuala Lumpur} via {station=Airport}, my name is {name=Ballmer}.\n",
      "- i would like to book a flight from {city=Singapore} to {city=Frankfurt} via {station=Airport}, my name is {name=Gates}.\n",
      "- i am coming from {city=Stuttgart} and want to travel via {station=Central Station} to {city=Frankfurt}.\n",
      "- i would like to book a flight from {city=Kuala Lumpur} to {city=Stuttgart} via {station=Central Station}, my name is {name=Ballmer}.\n",
      "- i am coming from {city=Frankfurt} and want to travel via {station=Airport} to {city=Singapore}.\n",
      "- i would like to book a flight from {city=Frankfurt} to {city=Stuttgart} via {station=Bus Stop}, my name is {name=Nadella}.\n",
      "- i would like to book a flight from {city=Kuala Lumpur} to {city=Frankfurt} via {station=Bus Stop}, my name is {name=Ballmer}.\n",
      "- i would like to book a flight from {city=Kuala Lumpur} to {city=Frankfurt} via {station=Central Station}, my name is {name=Gates}.\n",
      "- i would like to book a flight from {city=Stuttgart} to {city=Singapore} via {station=Central Station}, my name is {name=Ballmer}.\n",
      "- i would like to book a flight from {city=Frankfurt} to {city=Kuala Lumpur} via {station=Bus Stop}, my name is {name=Ballmer}.\n",
      "- i would like to book a flight from {city=Stuttgart} to {city=Kuala Lumpur} via {station=Central Station}, my name is {name=Gates}.\n",
      "- i would like to book a flight from {city=Stuttgart} to {city=Kuala Lumpur} via {station=Airport}, my name is {name=Gates}.\n",
      "- i would like to book a flight from {city=Kuala Lumpur} to {city=Singapore} via {station=Central Station}, my name is {name=Nadella}.\n",
      "- i would like to book a flight from {city=Frankfurt} to {city=Kuala Lumpur} via {station=Bus Stop}, my name is {name=Gates}.\n",
      "- i would like to book a flight from {city=Stuttgart} to {city=Singapore} via {station=Airport}, my name is {name=Ballmer}.\n",
      "- i would like to book a flight from {city=Singapore} to {city=Kuala Lumpur} via {station=Central Station}, my name is {name=Ballmer}.\n",
      "- i would like to book a flight from {city=Singapore} to {city=Frankfurt} via {station=Bus Stop}, my name is {name=Nadella}.\n",
      "- i would like to book a flight from {city=Frankfurt} to {city=Singapore} via {station=Central Station}, my name is {name=Gates}.\n",
      "- i am coming from {city=Stuttgart} and want to travel via {station=Central Station} to {city=Kuala Lumpur}.\n",
      "- i would like to book a flight from {city=Kuala Lumpur} to {city=Stuttgart} via {station=Bus Stop}, my name is {name=Gates}.\n",
      "- i would like to book a flight from {city=Kuala Lumpur} to {city=Frankfurt} via {station=Airport}, my name is {name=Nadella}.\n",
      "- i am coming from {city=Singapore} and want to travel via {station=Airport} to {city=Frankfurt}.\n",
      "- i would like to book a flight from {city=Stuttgart} to {city=Frankfurt} via {station=Central Station}, my name is {name=Nadella}.\n",
      "- i would like to book a flight from {city=Singapore} to {city=Kuala Lumpur} via {station=Airport}, my name is {name=Ballmer}.\n",
      "- i would like to book a flight from {city=Stuttgart} to {city=Singapore} via {station=Bus Stop}, my name is {name=Gates}.\n",
      "- i would like to book a flight from {city=Stuttgart} to {city=Kuala Lumpur} via {station=Bus Stop}, my name is {name=Ballmer}.\n",
      "- i would like to book a flight from {city=Singapore} to {city=Kuala Lumpur} via {station=Bus Stop}, my name is {name=Gates}.\n",
      "- i would like to book a flight from {city=Singapore} to {city=Frankfurt} via {station=Airport}, my name is {name=Nadella}.\n",
      "- i would like to book a flight from {city=Kuala Lumpur} to {city=Stuttgart} via {station=Airport}, my name is {name=Ballmer}.\n",
      "- i would like to book a flight from {city=Frankfurt} to {city=Stuttgart} via {station=Bus Stop}, my name is {name=Ballmer}.\n",
      "- i would like to book a flight from {city=Singapore} to {city=Stuttgart} via {station=Central Station}, my name is {name=Nadella}.\n",
      "- i would like to book a flight from {city=Stuttgart} to {city=Frankfurt} via {station=Central Station}, my name is {name=Gates}.\n",
      "- i would like to book a flight from {city=Kuala Lumpur} to {city=Stuttgart} via {station=Central Station}, my name is {name=Nadella}.\n",
      "- i would like to book a flight from {city=Frankfurt} to {city=Singapore} via {station=Central Station}, my name is {name=Nadella}.\n",
      "- i would like to book a flight from {city=Singapore} to {city=Kuala Lumpur} via {station=Bus Stop}, my name is {name=Ballmer}.\n",
      "- i am coming from {city=Stuttgart} and want to travel via {station=Airport} to {city=Frankfurt}.\n",
      "- i would like to book a flight from {city=Singapore} to {city=Frankfurt} via {station=Central Station}, my name is {name=Gates}.\n",
      "- i would like to book a flight from {city=Kuala Lumpur} to {city=Singapore} via {station=Airport}, my name is {name=Gates}.\n",
      "- i am coming from {city=Frankfurt} and want to travel via {station=Central Station} to {city=Singapore}.\n",
      "- i would like to book a flight from {city=Kuala Lumpur} to {city=Singapore} via {station=Bus Stop}, my name is {name=Gates}.\n",
      "- i would like to book a flight from {city=Frankfurt} to {city=Singapore} via {station=Airport}, my name is {name=Gates}.\n",
      "- i would like to book a flight from {city=Singapore} to {city=Stuttgart} via {station=Airport}, my name is {name=Nadella}.\n",
      "- i would like to book a flight from {city=Kuala Lumpur} to {city=Frankfurt} via {station=Bus Stop}, my name is {name=Gates}.\n",
      "- i would like to book a flight from {city=Kuala Lumpur} to {city=Frankfurt} via {station=Airport}, my name is {name=Gates}.\n",
      "- i would like to book a flight from {city=Singapore} to {city=Frankfurt} via {station=Central Station}, my name is {name=Nadella}.\n",
      "- i would like to book a flight from {city=Frankfurt} to {city=Stuttgart} via {station=Bus Stop}, my name is {name=Gates}.\n",
      "- i would like to book a flight from {city=Singapore} to {city=Stuttgart} via {station=Airport}, my name is {name=Ballmer}.\n",
      "- i would like to book a flight from {city=Singapore} to {city=Stuttgart} via {station=Bus Stop}, my name is {name=Ballmer}.\n",
      "- i would like to book a flight from {city=Frankfurt} to {city=Stuttgart} via {station=Central Station}, my name is {name=Gates}.\n",
      "- i would like to book a flight from {city=Frankfurt} to {city=Singapore} via {station=Bus Stop}, my name is {name=Nadella}.\n",
      "- i would like to book a flight from {city=Frankfurt} to {city=Kuala Lumpur} via {station=Central Station}, my name is {name=Nadella}.\n",
      "- i would like to book a flight from {city=Singapore} to {city=Kuala Lumpur} via {station=Central Station}, my name is {name=Nadella}.\n",
      "- i would like to book a flight from {city=Frankfurt} to {city=Singapore} via {station=Airport}, my name is {name=Nadella}.\n",
      "\n",
      "# BookSeat\n",
      "- i want to book a seat on my flight to {city=Frankfurt}.\n",
      "- i want to book a seat on my flight to {city=Singapore}.\n",
      "- i want to book a seat on my flight to {city=Kuala Lumpur}.\n",
      "- i want to book a seat on my flight to {city=Stuttgart}.\n",
      "\n",
      "# None\n",
      "- how are you doing?\n"
     ]
    }
   ],
   "source": [
    "# File name of your target LU-file.\n",
    "file_name = 'example_lu_file' \n",
    "# Boolean to write to file, if false it will only show in the output.\n",
    "write = True\n",
    "# Transform to LU-file. Keep in mind, that you will need a list of tuples with intents, otherwise the function will throw an error.\n",
    "transform_lu(luis_results, file_name, write=True)"
   ]
  },
  {
   "cell_type": "code",
   "execution_count": null,
   "metadata": {},
   "outputs": [],
   "source": []
  }
 ],
 "metadata": {
  "kernelspec": {
   "name": "python3",
   "display_name": "Python 3.7.6 64-bit",
   "metadata": {
    "interpreter": {
     "hash": "0d92b4570cf170047a8c40549154a6dffe47dd8c5b7bd394f81eede6f5d748fa"
    }
   }
  },
  "language_info": {
   "codemirror_mode": {
    "name": "ipython",
    "version": 3
   },
   "file_extension": ".py",
   "mimetype": "text/x-python",
   "name": "python",
   "nbconvert_exporter": "python",
   "pygments_lexer": "ipython3",
   "version": "3.7.6-final"
  }
 },
 "nbformat": 4,
 "nbformat_minor": 4
}