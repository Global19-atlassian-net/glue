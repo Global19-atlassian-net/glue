{
 "cells": [
  {
   "cell_type": "markdown",
   "metadata": {},
   "source": [
    "# Automated Training Data for LUIS"
   ]
  },
  {
   "cell_type": "code",
   "execution_count": 8,
   "metadata": {},
   "outputs": [],
   "source": [
    "# Import relevant packages\n",
    "import json\n",
    "import re\n",
    "import logging\n",
    "import pandas as pd\n",
    "import random\n",
    "import sys\n",
    "sys.path.append(\"../src/\")\n",
    "from luis_data_generator import LUISGenerator\n",
    "from luis_data_generator import transform_lu"
   ]
  },
  {
   "cell_type": "code",
   "execution_count": 2,
   "metadata": {},
   "outputs": [],
   "source": [
    "# Define input values, or import them from a pandas data frame\n",
    "utterances = ['ich möchte einen flug von {city} nach {city} buchen via {station}, mein Name ist {name}.', \n",
    "              'ich komme aus {city} und möchte über den {station} nach {city}.', \n",
    "              'was geht ab?']\n",
    "\n",
    "values = {'city': ['Stuttgart', 'Singapore', 'Frankfurt'], \n",
    "          'station': ['Airport', 'Central', 'Bus Stop'], \n",
    "          'name': ['Nadella', 'Gates']}\n",
    "\n",
    "intents = ['123_Test', \n",
    "           '234_Test', \n",
    "           'None']"
   ]
  },
  {
   "cell_type": "code",
   "execution_count": 3,
   "metadata": {},
   "outputs": [],
   "source": [
    "# Create instance of the class\n",
    "luis_generator = LUISGenerator(utterances, values, ['BookFlight', 'BookFlight', 'None'])"
   ]
  },
  {
   "cell_type": "code",
   "execution_count": 9,
   "metadata": {},
   "outputs": [
    {
     "output_type": "stream",
     "name": "stdout",
     "text": [
      "\n# BookFlight\n- ich möchte einen flug von {city=Stuttgart} nach {city=Singapore} buchen via {station=Central}, mein Name ist {name=Gates}.\n- ich komme aus {city=Stuttgart} und möchte über den {station=Airport} nach {city=Frankfurt}.\n- ich möchte einen flug von {city=Frankfurt} nach {city=Singapore} buchen via {station=Airport}, mein Name ist {name=Nadella}.\n- ich komme aus {city=Singapore} und möchte über den {station=Central} nach {city=Stuttgart}.\n- ich möchte einen flug von {city=Stuttgart} nach {city=Frankfurt} buchen via {station=Central}, mein Name ist {name=Nadella}.\n- ich möchte einen flug von {city=Singapore} nach {city=Stuttgart} buchen via {station=Airport}, mein Name ist {name=Nadella}.\n- ich komme aus {city=Frankfurt} und möchte über den {station=Central} nach {city=Stuttgart}.\n- ich möchte einen flug von {city=Singapore} nach {city=Stuttgart} buchen via {station=Bus Stop}, mein Name ist {name=Nadella}.\n- ich komme aus {city=Stuttgart} und möchte über den {station=Airport} nach {city=Singapore}.\n- ich komme aus {city=Singapore} und möchte über den {station=Central} nach {city=Frankfurt}.\n- ich möchte einen flug von {city=Stuttgart} nach {city=Frankfurt} buchen via {station=Airport}, mein Name ist {name=Nadella}.\n- ich komme aus {city=Singapore} und möchte über den {station=Bus Stop} nach {city=Stuttgart}.\n- ich möchte einen flug von {city=Frankfurt} nach {city=Singapore} buchen via {station=Central}, mein Name ist {name=Nadella}.\n- ich komme aus {city=Singapore} und möchte über den {station=Airport} nach {city=Stuttgart}.\n- ich möchte einen flug von {city=Singapore} nach {city=Stuttgart} buchen via {station=Central}, mein Name ist {name=Gates}.\n- ich komme aus {city=Frankfurt} und möchte über den {station=Central} nach {city=Singapore}.\n- ich möchte einen flug von {city=Singapore} nach {city=Frankfurt} buchen via {station=Airport}, mein Name ist {name=Gates}.\n- ich möchte einen flug von {city=Frankfurt} nach {city=Stuttgart} buchen via {station=Airport}, mein Name ist {name=Nadella}.\n- ich komme aus {city=Frankfurt} und möchte über den {station=Bus Stop} nach {city=Singapore}.\n- ich möchte einen flug von {city=Stuttgart} nach {city=Frankfurt} buchen via {station=Central}, mein Name ist {name=Gates}.\n- ich möchte einen flug von {city=Stuttgart} nach {city=Singapore} buchen via {station=Airport}, mein Name ist {name=Nadella}.\n- ich komme aus {city=Frankfurt} und möchte über den {station=Airport} nach {city=Stuttgart}.\n- ich möchte einen flug von {city=Frankfurt} nach {city=Stuttgart} buchen via {station=Airport}, mein Name ist {name=Gates}.\n- ich komme aus {city=Frankfurt} und möchte über den {station=Airport} nach {city=Singapore}.\n- ich möchte einen flug von {city=Stuttgart} nach {city=Singapore} buchen via {station=Bus Stop}, mein Name ist {name=Nadella}.\n- ich möchte einen flug von {city=Singapore} nach {city=Stuttgart} buchen via {station=Bus Stop}, mein Name ist {name=Gates}.\n- ich möchte einen flug von {city=Singapore} nach {city=Frankfurt} buchen via {station=Central}, mein Name ist {name=Gates}.\n- ich möchte einen flug von {city=Singapore} nach {city=Frankfurt} buchen via {station=Central}, mein Name ist {name=Nadella}.\n- ich möchte einen flug von {city=Singapore} nach {city=Frankfurt} buchen via {station=Bus Stop}, mein Name ist {name=Gates}.\n- ich komme aus {city=Stuttgart} und möchte über den {station=Central} nach {city=Frankfurt}.\n- ich möchte einen flug von {city=Frankfurt} nach {city=Singapore} buchen via {station=Bus Stop}, mein Name ist {name=Gates}.\n- ich komme aus {city=Singapore} und möchte über den {station=Airport} nach {city=Frankfurt}.\n- ich möchte einen flug von {city=Singapore} nach {city=Stuttgart} buchen via {station=Airport}, mein Name ist {name=Gates}.\n- ich komme aus {city=Stuttgart} und möchte über den {station=Bus Stop} nach {city=Frankfurt}.\n- ich komme aus {city=Stuttgart} und möchte über den {station=Bus Stop} nach {city=Singapore}.\n- ich möchte einen flug von {city=Stuttgart} nach {city=Singapore} buchen via {station=Bus Stop}, mein Name ist {name=Gates}.\n- ich möchte einen flug von {city=Stuttgart} nach {city=Frankfurt} buchen via {station=Bus Stop}, mein Name ist {name=Gates}.\n- ich komme aus {city=Stuttgart} und möchte über den {station=Central} nach {city=Singapore}.\n- ich möchte einen flug von {city=Frankfurt} nach {city=Stuttgart} buchen via {station=Central}, mein Name ist {name=Nadella}.\n- ich möchte einen flug von {city=Stuttgart} nach {city=Frankfurt} buchen via {station=Airport}, mein Name ist {name=Gates}.\n- ich möchte einen flug von {city=Singapore} nach {city=Frankfurt} buchen via {station=Airport}, mein Name ist {name=Nadella}.\n- ich möchte einen flug von {city=Frankfurt} nach {city=Singapore} buchen via {station=Bus Stop}, mein Name ist {name=Nadella}.\n- ich möchte einen flug von {city=Stuttgart} nach {city=Singapore} buchen via {station=Airport}, mein Name ist {name=Gates}.\n- ich komme aus {city=Frankfurt} und möchte über den {station=Bus Stop} nach {city=Stuttgart}.\n- ich möchte einen flug von {city=Frankfurt} nach {city=Stuttgart} buchen via {station=Bus Stop}, mein Name ist {name=Gates}.\n- ich möchte einen flug von {city=Stuttgart} nach {city=Frankfurt} buchen via {station=Bus Stop}, mein Name ist {name=Nadella}.\n- ich möchte einen flug von {city=Singapore} nach {city=Frankfurt} buchen via {station=Bus Stop}, mein Name ist {name=Nadella}.\n- ich komme aus {city=Singapore} und möchte über den {station=Bus Stop} nach {city=Frankfurt}.\n- ich möchte einen flug von {city=Frankfurt} nach {city=Stuttgart} buchen via {station=Central}, mein Name ist {name=Gates}.\n- ich möchte einen flug von {city=Frankfurt} nach {city=Stuttgart} buchen via {station=Bus Stop}, mein Name ist {name=Nadella}.\n- ich möchte einen flug von {city=Singapore} nach {city=Stuttgart} buchen via {station=Central}, mein Name ist {name=Nadella}.\n- ich möchte einen flug von {city=Frankfurt} nach {city=Singapore} buchen via {station=Airport}, mein Name ist {name=Gates}.\n- ich möchte einen flug von {city=Frankfurt} nach {city=Singapore} buchen via {station=Central}, mein Name ist {name=Gates}.\n- ich möchte einen flug von {city=Stuttgart} nach {city=Singapore} buchen via {station=Central}, mein Name ist {name=Nadella}.\n\n# None\n- was geht ab?\n"
     ]
    }
   ],
   "source": [
    "# Loop through the generator multiple times and get a lu file!\n",
    "results = []\n",
    "for _ in range(0, 1000):\n",
    "    luis_generator.get_values()\n",
    "    speech, luis = luis_generator.fill_values()\n",
    "    results.extend(luis)\n",
    "transform_lu(results)"
   ]
  }
 ],
 "metadata": {
  "kernelspec": {
   "name": "python3",
   "display_name": "Python 3.7.6 64-bit ('nlp': conda)",
   "metadata": {
    "interpreter": {
     "hash": "0d92b4570cf170047a8c40549154a6dffe47dd8c5b7bd394f81eede6f5d748fa"
    }
   }
  },
  "language_info": {
   "codemirror_mode": {
    "name": "ipython",
    "version": 3
   },
   "file_extension": ".py",
   "mimetype": "text/x-python",
   "name": "python",
   "nbconvert_exporter": "python",
   "pygments_lexer": "ipython3",
   "version": "3.7.6-final"
  }
 },
 "nbformat": 4,
 "nbformat_minor": 4
}