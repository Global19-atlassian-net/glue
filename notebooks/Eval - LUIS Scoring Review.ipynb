{
 "cells": [
  {
   "cell_type": "markdown",
   "metadata": {},
   "source": [
    "# Scoring Evaluation"
   ]
  },
  {
   "cell_type": "markdown",
   "metadata": {},
   "source": [
    "### Import packages"
   ]
  },
  {
   "cell_type": "code",
   "execution_count": null,
   "metadata": {},
   "outputs": [],
   "source": [
    "import pandas as pd\n",
    "import json\n",
    "from pandas import json_normalize\n",
    "from sklearn.metrics import classification_report\n",
    "from sklearn.metrics import confusion_matrix\n",
    "import seaborn as sns; sns.set(rc={'figure.figsize':(15,15)})\n",
    "import matplotlib.pyplot as plt "
   ]
  },
  {
   "cell_type": "markdown",
   "metadata": {},
   "source": [
    "### Import data"
   ]
  },
  {
   "cell_type": "code",
   "execution_count": null,
   "metadata": {},
   "outputs": [],
   "source": [
    "df_scoring = pd.read_csv('2020-07-16-example.txt', sep=\"\\t\", encoding=\"utf-8\", index_col=[0]).dropna()"
   ]
  },
  {
   "cell_type": "code",
   "execution_count": null,
   "metadata": {},
   "outputs": [],
   "source": [
    "# Set bool for drop\n",
    "df_scoring['drop_bool'] = ((df_scoring['intent'] == df_scoring['prediction']) & (df_scoring['score'] >= 0.81)) == False"
   ]
  },
  {
   "cell_type": "code",
   "execution_count": null,
   "metadata": {},
   "outputs": [],
   "source": [
    "df_scoring.head()"
   ]
  },
  {
   "cell_type": "markdown",
   "metadata": {},
   "source": [
    "### Classification Report without treshold-caused drop"
   ]
  },
  {
   "cell_type": "code",
   "execution_count": null,
   "metadata": {
    "scrolled": false,
    "tags": []
   },
   "outputs": [],
   "source": [
    "print(classification_report(df_scoring.intent, df_scoring.prediction))\n",
    "sns.heatmap(confusion_matrix(df_scoring.intent, df_scoring.prediction), annot=True)"
   ]
  },
  {
   "cell_type": "markdown",
   "metadata": {},
   "source": [
    "### Classification Report with treshold-caused drop"
   ]
  },
  {
   "cell_type": "code",
   "execution_count": null,
   "metadata": {
    "scrolled": false,
    "tags": []
   },
   "outputs": [],
   "source": [
    "print(classification_report(df_scoring.intent, df_scoring['drop']))\n",
    "sns.heatmap(confusion_matrix(df_scoring.intent, df_scoring['drop']), annot=True)"
   ]
  },
  {
   "cell_type": "markdown",
   "metadata": {},
   "source": [
    "#### Wrong Classifications"
   ]
  },
  {
   "cell_type": "code",
   "execution_count": null,
   "metadata": {
    "scrolled": false
   },
   "outputs": [],
   "source": [
    "display(df_scoring[~(df_scoring.intent == df_scoring.prediction)])"
   ]
  },
  {
   "cell_type": "code",
   "execution_count": null,
   "metadata": {
    "tags": []
   },
   "outputs": [],
   "source": [
    "# Frequently misclassified values\n",
    "print(df_scoring[~(df_scoring.intent == df_scoring.prediction)]['intent'].value_counts())\n",
    "df_scoring[~(df_scoring.intent == df_scoring.prediction)]['intent'].value_counts().sort_values().plot(kind = 'barh')"
   ]
  },
  {
   "cell_type": "code",
   "execution_count": null,
   "metadata": {},
   "outputs": [],
   "source": [
    "df_scoring[~(df_scoring.intent == df_scoring.prediction) & (df_scoring.intent == 'SmallTalk_Any')]['prediction'].value_counts()"
   ]
  },
  {
   "cell_type": "code",
   "execution_count": null,
   "metadata": {},
   "outputs": [],
   "source": [
    "# Investigate cases for most frequently misclassified class\n",
    "df_scoring[~(df_scoring.intent == df_scoring.prediction) & (df_scoring.intent == 'Veraenderungsmitteilung_eService_Bankverbindung')]"
   ]
  },
  {
   "cell_type": "markdown",
   "metadata": {},
   "source": [
    "### Bad scores, but correctly classified"
   ]
  },
  {
   "cell_type": "code",
   "execution_count": null,
   "metadata": {},
   "outputs": [],
   "source": [
    "display(df_scoring[(df_scoring.score < 0.82) & (df_scoring.intent == df_scoring.prediction)])"
   ]
  },
  {
   "cell_type": "code",
   "execution_count": null,
   "metadata": {},
   "outputs": [],
   "source": [
    "# Distribution of bad scores but correctly classified\n",
    "am = sns.boxplot(y='score', data=df_scoring[(df_scoring.score < 0.82) & (df_scoring.intent == df_scoring.prediction)])\n",
    "am.set_ylim([0, 1])"
   ]
  },
  {
   "cell_type": "code",
   "execution_count": null,
   "metadata": {},
   "outputs": [],
   "source": [
    "# Most frequent correct classifications even tho having bad confidence scores\n",
    "df_scoring[(df_scoring.score < 0.82) & (df_scoring.intent == df_scoring.prediction)]['prediction'].value_counts()"
   ]
  },
  {
   "cell_type": "markdown",
   "metadata": {},
   "source": [
    "### Good scores, but wrongly classified"
   ]
  },
  {
   "cell_type": "code",
   "execution_count": null,
   "metadata": {
    "tags": []
   },
   "outputs": [],
   "source": [
    "print('Good scores, but wrongly classified')\n",
    "display(df_scoring[(df_scoring.score > 0.82) & (df_scoring.intent != df_scoring.prediction)].head())#.boxplot(column=['score'])"
   ]
  },
  {
   "cell_type": "code",
   "execution_count": null,
   "metadata": {},
   "outputs": [],
   "source": [
    "# Distribution of good scores but wrongly classified\n",
    "ax = sns.boxplot(y='score', data=df_scoring[(df_scoring.score > 0.82) & (df_scoring.intent != df_scoring.prediction)])\n",
    "ax.set_ylim([0, 1])"
   ]
  },
  {
   "cell_type": "markdown",
   "metadata": {},
   "source": [
    "### Scores comparison drop vs. non drop"
   ]
  },
  {
   "cell_type": "code",
   "execution_count": null,
   "metadata": {},
   "outputs": [],
   "source": [
    "ay = sns.boxplot(x=\"drop_bool\", y=\"score\", data=df_scoring)\n",
    "ay.set_ylim([0, 1.01])\n",
    "# todo distribution / density"
   ]
  }
 ],
 "metadata": {
  "kernelspec": {
   "name": "python3",
   "display_name": "Python 3.7.6 64-bit ('nlp': conda)",
   "metadata": {
    "interpreter": {
     "hash": "0d92b4570cf170047a8c40549154a6dffe47dd8c5b7bd394f81eede6f5d748fa"
    }
   }
  },
  "language_info": {
   "codemirror_mode": {
    "name": "ipython",
    "version": 3
   },
   "file_extension": ".py",
   "mimetype": "text/x-python",
   "name": "python",
   "nbconvert_exporter": "python",
   "pygments_lexer": "ipython3",
   "version": "3.7.6-final"
  }
 },
 "nbformat": 4,
 "nbformat_minor": 4
}